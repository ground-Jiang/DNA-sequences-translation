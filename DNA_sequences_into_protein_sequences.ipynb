{
  "nbformat": 4,
  "nbformat_minor": 0,
  "metadata": {
    "colab": {
      "provenance": [],
      "authorship_tag": "ABX9TyNjGBQGA7qJlJvY9cdkdm4M",
      "include_colab_link": true
    },
    "kernelspec": {
      "name": "python3",
      "display_name": "Python 3"
    },
    "language_info": {
      "name": "python"
    }
  },
  "cells": [
    {
      "cell_type": "markdown",
      "metadata": {
        "id": "view-in-github",
        "colab_type": "text"
      },
      "source": [
        "<a href=\"https://colab.research.google.com/github/ground-Jiang/DNA-sequences-translation/blob/main/DNA_sequences_into_protein_sequences.ipynb\" target=\"_parent\"><img src=\"https://colab.research.google.com/assets/colab-badge.svg\" alt=\"Open In Colab\"/></a>"
      ]
    },
    {
      "cell_type": "code",
      "execution_count": 1,
      "metadata": {
        "colab": {
          "base_uri": "https://localhost:8080/"
        },
        "id": "OUR3niHkxxwb",
        "outputId": "f006efa7-8314-41b5-9457-6e413a52eacb"
      },
      "outputs": [
        {
          "output_type": "stream",
          "name": "stdout",
          "text": [
            "Collecting biopython\n",
            "  Downloading biopython-1.84-cp310-cp310-manylinux_2_17_x86_64.manylinux2014_x86_64.whl.metadata (12 kB)\n",
            "Requirement already satisfied: numpy in /usr/local/lib/python3.10/dist-packages (from biopython) (1.26.4)\n",
            "Downloading biopython-1.84-cp310-cp310-manylinux_2_17_x86_64.manylinux2014_x86_64.whl (3.2 MB)\n",
            "\u001b[2K   \u001b[90m━━━━━━━━━━━━━━━━━━━━━━━━━━━━━━━━━━━━━━━━\u001b[0m \u001b[32m3.2/3.2 MB\u001b[0m \u001b[31m26.3 MB/s\u001b[0m eta \u001b[36m0:00:00\u001b[0m\n",
            "\u001b[?25hInstalling collected packages: biopython\n",
            "Successfully installed biopython-1.84\n"
          ]
        }
      ],
      "source": [
        "!pip install biopython"
      ]
    },
    {
      "cell_type": "code",
      "source": [
        "#@title **input your DNA sequences in the right box**\n",
        "\n",
        "from Bio import SeqIO\n",
        "from Bio.Seq import Seq\n",
        "from Bio.SeqRecord import SeqRecord\n",
        "\n",
        "# Input and output file paths\n",
        "input_file = 'Pseudomonas_aeruginosa_PAO1_ORF.ffn' #@param {type:\"string\"}\n",
        "# Replace with the path to your .ffn file\n",
        "output_file = '/content/output_file.fasta'  # Replace with the path to save the .fasta file\n",
        "\n",
        "# List to hold translated protein sequences\n",
        "protein_records = []\n",
        "\n",
        "# Read the DNA sequences from the .ffn file\n",
        "for dna_record in SeqIO.parse(input_file, \"fasta\"):\n",
        "    # Translate the DNA sequence into a protein sequence\n",
        "    protein_seq = dna_record.seq.translate()\n",
        "\n",
        "    # Create a SeqRecord for the protein sequence\n",
        "    protein_record = SeqRecord(protein_seq, id=dna_record.id, description=\"translated protein\")\n",
        "\n",
        "    # Add the protein record to the list\n",
        "    protein_records.append(protein_record)\n",
        "\n",
        "# Write the protein sequences to a .fasta file\n",
        "SeqIO.write(protein_records, output_file, \"fasta\")\n",
        "\n",
        "print(f\"Protein sequences saved to {output_file}\")\n"
      ],
      "metadata": {
        "colab": {
          "base_uri": "https://localhost:8080/"
        },
        "cellView": "form",
        "id": "zWHxttu2y1g5",
        "outputId": "f5527b88-b1a5-4a44-c997-ac9bf7fb34ea"
      },
      "execution_count": 2,
      "outputs": [
        {
          "output_type": "stream",
          "name": "stderr",
          "text": [
            "/usr/local/lib/python3.10/dist-packages/Bio/Seq.py:2879: BiopythonWarning: Partial codon, len(sequence) not a multiple of three. Explicitly trim the sequence or add trailing N before translation. This may become an error in future.\n",
            "  warnings.warn(\n"
          ]
        },
        {
          "output_type": "stream",
          "name": "stdout",
          "text": [
            "Protein sequences saved to /content/output_file.fasta\n"
          ]
        }
      ]
    }
  ]
}