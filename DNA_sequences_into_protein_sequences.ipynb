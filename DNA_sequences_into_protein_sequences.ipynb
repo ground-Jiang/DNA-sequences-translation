{
  "nbformat": 4,
  "nbformat_minor": 0,
  "metadata": {
    "colab": {
      "provenance": [],
      "authorship_tag": "ABX9TyOHvABljq7XEtYK405Opw0t",
      "include_colab_link": true
    },
    "kernelspec": {
      "name": "python3",
      "display_name": "Python 3"
    },
    "language_info": {
      "name": "python"
    }
  },
  "cells": [
    {
      "cell_type": "markdown",
      "metadata": {
        "id": "view-in-github",
        "colab_type": "text"
      },
      "source": [
        "<a href=\"https://colab.research.google.com/github/ground-Jiang/DNA-sequences-translation/blob/main/DNA_sequences_into_protein_sequences.ipynb\" target=\"_parent\"><img src=\"https://colab.research.google.com/assets/colab-badge.svg\" alt=\"Open In Colab\"/></a>"
      ]
    },
    {
      "cell_type": "code",
      "execution_count": 9,
      "metadata": {
        "colab": {
          "base_uri": "https://localhost:8080/"
        },
        "id": "OUR3niHkxxwb",
        "outputId": "073e64f1-2b80-4fa0-b945-40684432dd43"
      },
      "outputs": [
        {
          "output_type": "stream",
          "name": "stdout",
          "text": [
            "Requirement already satisfied: biopython in /usr/local/lib/python3.10/dist-packages (1.84)\n",
            "Requirement already satisfied: numpy in /usr/local/lib/python3.10/dist-packages (from biopython) (1.26.4)\n"
          ]
        }
      ],
      "source": [
        "!pip install biopython"
      ]
    },
    {
      "cell_type": "code",
      "source": [
        "#@title **input your DNA sequences in the right box**\n",
        "\n",
        "from Bio import SeqIO\n",
        "from Bio.Seq import Seq\n",
        "from Bio.SeqRecord import SeqRecord\n",
        "\n",
        "# Input and output file paths\n",
        "input_file = 'Pseudomonas_aeruginosa_PAO1_ORF.ffn' #@param {type:\"string\"}\n",
        "# Replace with the path to your .ffn file\n",
        "output_file = '/content/output_file.fasta'  # Replace with the path to save the .fasta file\n",
        "\n",
        "# List to hold translated protein sequences\n",
        "protein_records = []\n",
        "\n",
        "# Read the DNA sequences from the .ffn file\n",
        "for dna_record in SeqIO.parse(input_file, \"fasta\"):\n",
        "    # Translate the DNA sequence into a protein sequence\n",
        "    protein_seq = dna_record.seq.translate()\n",
        "\n",
        "    # Create a SeqRecord for the protein sequence\n",
        "    protein_record = SeqRecord(protein_seq, id=dna_record.id, description=\"translated protein\")\n",
        "\n",
        "    # Add the protein record to the list\n",
        "    protein_records.append(protein_record)\n",
        "\n",
        "# Write the protein sequences to a .fasta file\n",
        "SeqIO.write(protein_records, output_file, \"fasta\")\n",
        "\n",
        "print(f\"Protein sequences saved to {output_file}\")\n"
      ],
      "metadata": {
        "colab": {
          "base_uri": "https://localhost:8080/"
        },
        "id": "zWHxttu2y1g5",
        "outputId": "f5527b88-b1a5-4a44-c997-ac9bf7fb34ea"
      },
      "execution_count": 2,
      "outputs": [
        {
          "output_type": "stream",
          "name": "stderr",
          "text": [
            "/usr/local/lib/python3.10/dist-packages/Bio/Seq.py:2879: BiopythonWarning: Partial codon, len(sequence) not a multiple of three. Explicitly trim the sequence or add trailing N before translation. This may become an error in future.\n",
            "  warnings.warn(\n"
          ]
        },
        {
          "output_type": "stream",
          "name": "stdout",
          "text": [
            "Protein sequences saved to /content/output_file.fasta\n"
          ]
        }
      ]
    },
    {
      "cell_type": "code",
      "source": [
        "#@title **remove all the * in the sequences**\n",
        "\n",
        "import os\n",
        "from Bio import SeqIO\n",
        "from Bio.Seq import Seq\n",
        "\n",
        "def remove_asterisks(directory):\n",
        "    for filename in os.listdir(directory):\n",
        "        if filename.endswith('.fasta'):\n",
        "            file_path = os.path.join(directory, filename)\n",
        "            sequences = list(SeqIO.parse(file_path, 'fasta'))\n",
        "\n",
        "            # Remove '*' from sequences\n",
        "            for seq_record in sequences:\n",
        "                seq_record.seq = Seq(str(seq_record.seq).replace('*', ''))\n",
        "\n",
        "            # Write cleaned sequences back to the file\n",
        "            with open(file_path, 'w') as output_file:\n",
        "                SeqIO.write(sequences, output_file, 'fasta')\n",
        "            print(f'Processed {filename}')\n",
        "\n",
        "\n",
        "directory_path = '/content/'\n",
        "\n",
        "remove_asterisks(directory_path)"
      ],
      "metadata": {
        "colab": {
          "base_uri": "https://localhost:8080/"
        },
        "cellView": "form",
        "id": "lqRgd7AD-Wby",
        "outputId": "f451d1e8-5f92-40eb-82c9-82cb4f6666cf"
      },
      "execution_count": 5,
      "outputs": [
        {
          "output_type": "stream",
          "name": "stdout",
          "text": [
            "Processed output_file.fasta\n"
          ]
        }
      ]
    },
    {
      "cell_type": "code",
      "source": [
        "import os\n",
        "from Bio import SeqIO\n",
        "\n",
        "# Input and output paths\n",
        "input_file = 'output_file.fasta'  # Replace with the path to your input .fasta file\n",
        "#os.mkdir('output',True)\n",
        "output_dir = '/content/output/'  # Replace with the path to your output directory\n",
        "\n",
        "# Make sure the output directory exists\n",
        "os.makedirs(output_dir, exist_ok=True)\n",
        "\n",
        "# Read the sequences from the input .fasta file\n",
        "sequences = list(SeqIO.parse(input_file, 'fasta'))\n",
        "\n",
        "# Ensure we have at least 500 sequences\n",
        "if len(sequences) < 500:\n",
        "    raise ValueError(\"The input file contains fewer than 500 sequences.\")\n",
        "\n",
        "# Take the first 500 sequences\n",
        "sequences = sequences[:500]\n",
        "\n",
        "# Split the sequences into pairs and save them\n",
        "for i in range(0, 500, 2):\n",
        "    pair_sequences = sequences[i:i+2]\n",
        "    if len(pair_sequences) == 2:  # Ensure there are at least 2 sequences to form a pair\n",
        "        # Create a file name using the sequence names\n",
        "        file_name = f\"{pair_sequences[0].id}_{pair_sequences[1].id}.fasta\"\n",
        "        pair_file_path = os.path.join(output_dir, file_name)\n",
        "        SeqIO.write(pair_sequences, pair_file_path, 'fasta')\n",
        "\n",
        "print(f'Created {500//2} .fasta files in the directory {output_dir}')\n"
      ],
      "metadata": {
        "colab": {
          "base_uri": "https://localhost:8080/"
        },
        "id": "WhjolWYyK80X",
        "outputId": "3fc53c99-50df-4510-c940-35fd3ca11092"
      },
      "execution_count": 6,
      "outputs": [
        {
          "output_type": "stream",
          "name": "stdout",
          "text": [
            "Created 250 .fasta files in the directory /content/output/\n"
          ]
        }
      ]
    },
    {
      "cell_type": "markdown",
      "source": [
        "Input the fixed_sequences which is the chosen one for mining and unput also out_file.fasta which is the file including all the files.\n",
        "And this script will output the first 500 pairing with output_file.fasta in one json file of AF3 server format."
      ],
      "metadata": {
        "id": "CG3hfs8kiMfp"
      }
    },
    {
      "cell_type": "code",
      "source": [
        "import json\n",
        "import os\n",
        "from Bio import SeqIO\n",
        "\n",
        "# Input and output paths\n",
        "input_file = 'output_file.fasta'  # Replace with the path to your input .fasta file\n",
        "output_file = '1-100andAzeB_M1.json'  # Replace with the desired output path for the JSON file\n",
        "\n",
        "# The fixed sequence to include in every pair\n",
        "fixed_sequence = \"RLPLSPYQRDIWVAAAQFPELDQYTIFSYDRFTGEVDTQALERALLQAARDTEAFRLRLGETDGTPYQWLDTDAEFEARHVDLRADRDPEAAVRSWLRDAFRHAYPLDGRSLVDLALLHSDQALYVYVRTHHIVSDAWGLQLFLSRVRAGYLGELGEPQAQMPTASLLAQLETDDYSGSEQYRGDRAYFAEALEGLEPALFTRRRPAGLRRTARHRLTLERTLLDAIRDRGESPFLFLSAAVALYLARIHQNDDVVLGVPVLNRADRAAKQVVGHFANTLPLRIRTAPEQTVDEFLAQLREATRTLLRHQKMPLGDLLRGASPLFDTTLSYMRWPAAQAIPNASVETVAQTHAHDPDALAIWVSEFDGHSDAQVDFEYACDVFDADFPMDAAARHIETFLRALVEGGERRLGELDPLSAAEREELIHTRNATDQAFPEQATLPTLFAEQVARTPQRTALLEADGGTLSYAELDAKVQAVADALRAAGVRTDERVALLVARGPHLLPAILGVQRAGGAYVPINPDHPLERVRLLLEDCGARVVLVDERAATLGESLGETRVLHLERLPQSTGDLPAANVAPGDLAYVIYTSGSTGMPKGVMVEHRSVVNRLNWMQRRYPIGERDVLLQKTPVTFDVSVWELFWWSFTGARLSLLPPGAEKDPREMLRSIQRDAVTVIHFVPSMLTPFLDLLDGDPTARAAASSLRLVFCSGEALAPLQVARFRRLFGDAVRLVNLYGPTEATVDVSDHECASDNPTRVPIGRPIDNLRLYVLDRALRPQPLGAVGELYIGGVGVARGYLNRPELNAERFLVDPFVAGGRLYRTGDLARWLADGNLEYLGRADDQVKIRGNRVEPDEVRDRLAALPGVRDAAVVARDSAVRGTHLVGYYVAAAELDPGQLRAGLSATLPDFMLPAFFVRIDSLPLSANGKLDRRQLPAPPEQVAAVAPRTATEAELAAVWADVLGVAEVGVHDDFYALGGDSILMLRIRAAAQRRGLGFELADLMRNPTVAGLAERL\"\n",
        "\n",
        "# Read the sequences from the input .fasta file\n",
        "sequences = list(SeqIO.parse(input_file, 'fasta'))\n",
        "\n",
        "# Ensure we have at least 500 sequences\n",
        "if len(sequences) < 100:\n",
        "    raise ValueError(\"The input file contains fewer than 500 sequences.\")\n",
        "\n",
        "# Take the first 500 sequences\n",
        "sequences = sequences[:100]\n",
        "\n",
        "# Prepare the JSON structure\n",
        "jobs = []\n",
        "for i, seq_record in enumerate(sequences):\n",
        "    job_name = f\"{seq_record.id}\"\n",
        "    job_data = {\n",
        "        \"name\": job_name,\n",
        "        \"modelSeeds\": [],\n",
        "        \"sequences\": [\n",
        "            {\n",
        "                \"proteinChain\": {\n",
        "                    \"sequence\": fixed_sequence,\n",
        "                    \"count\": 1\n",
        "                }\n",
        "            },\n",
        "            {\n",
        "                \"proteinChain\": {\n",
        "                    \"sequence\": str(seq_record.seq),\n",
        "                    \"count\": 1\n",
        "                }\n",
        "            }\n",
        "        ]\n",
        "    }\n",
        "    jobs.append(job_data)\n",
        "\n",
        "# Save the JSON structure to a file\n",
        "with open(output_file, 'w') as json_file:\n",
        "    json.dump(jobs, json_file, indent=4)\n",
        "\n",
        "print(f\"JSON file saved to {output_file}\")\n"
      ],
      "metadata": {
        "colab": {
          "base_uri": "https://localhost:8080/"
        },
        "id": "-C7r3dKBNcM3",
        "outputId": "bc3909cd-3a17-4fa5-8470-1b6fd154e9ea"
      },
      "execution_count": 11,
      "outputs": [
        {
          "output_type": "stream",
          "name": "stdout",
          "text": [
            "JSON file saved to 1-100andAzeB_M1.json\n"
          ]
        }
      ]
    }
  ]
}